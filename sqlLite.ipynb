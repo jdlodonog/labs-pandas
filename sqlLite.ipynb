{
 "cells": [
  {
   "cell_type": "code",
   "execution_count": 30,
   "metadata": {},
   "outputs": [
    {
     "data": {
      "text/plain": [
       "' \\nfor line in reader:\\n    print(line)    \\n'"
      ]
     },
     "execution_count": 30,
     "metadata": {},
     "output_type": "execute_result"
    }
   ],
   "source": [
    "#descargar archivos desde url y almacenarlos en carpeta local\n",
    "import urllib.request as request\n",
    "import csv\n",
    "r = request.urlopen('https://raw.githubusercontent.com/jdvelasq/datalabs/master/datasets/drivers/truck_event_text_partition.csv').read().decode('utf8').split(\"\\n\")\n",
    "reader = csv.reader(r)\n",
    "#para imprimir el archivo\n",
    "''' \n",
    "for line in reader:\n",
    "    print(line)    \n",
    "'''\n"
   ]
  },
  {
   "cell_type": "code",
   "execution_count": 32,
   "metadata": {},
   "outputs": [],
   "source": [
    "#otra manera e importar los archgivos desde internet\n",
    "df = pd.read_csv('https://raw.githubusercontent.com/jdvelasq/datalabs/master/datasets/drivers/truck_event_text_partition.csv')\n",
    "df.to_csv('truck_event_text_partition.csv')"
   ]
  },
  {
   "cell_type": "code",
   "execution_count": 28,
   "metadata": {},
   "outputs": [],
   "source": [
    "import os\n",
    "\n",
    "for root, dirs, files in os.walk('/TEMP/'):\n",
    "    for file in files:\n",
    "        if file.endswith('.ipynb'):\n",
    "            print(os.path.join(root, file))\n"
   ]
  },
  {
   "cell_type": "code",
   "execution_count": 17,
   "metadata": {},
   "outputs": [
    {
     "name": "stderr",
     "output_type": "stream",
     "text": [
      "\"ls\" no se reconoce como un comando interno o externo,\n",
      "programa o archivo por lotes ejecutable.\n"
     ]
    }
   ],
   "source": [
    "#prueba de commit en github con el archivo de jupyter lab\n",
    "filenames = [\n",
    "    \"drivers.csv\",\n",
    "    \"timesheet.csv\",\n",
    "    \"truck_event_text_partition.csv\",\n",
    "]\n",
    "!ls -1 /tmp"
   ]
  },
  {
   "cell_type": "code",
   "execution_count": 6,
   "metadata": {},
   "outputs": [
    {
     "data": {
      "text/html": [
       "<div>\n",
       "<style scoped>\n",
       "    .dataframe tbody tr th:only-of-type {\n",
       "        vertical-align: middle;\n",
       "    }\n",
       "\n",
       "    .dataframe tbody tr th {\n",
       "        vertical-align: top;\n",
       "    }\n",
       "\n",
       "    .dataframe thead th {\n",
       "        text-align: right;\n",
       "    }\n",
       "</style>\n",
       "<table border=\"1\" class=\"dataframe\">\n",
       "  <thead>\n",
       "    <tr style=\"text-align: right;\">\n",
       "      <th></th>\n",
       "      <th>driverId</th>\n",
       "      <th>name</th>\n",
       "      <th>ssn</th>\n",
       "      <th>location</th>\n",
       "      <th>certified</th>\n",
       "      <th>wage-plan</th>\n",
       "    </tr>\n",
       "  </thead>\n",
       "  <tbody>\n",
       "    <tr>\n",
       "      <th>0</th>\n",
       "      <td>10</td>\n",
       "      <td>George Vetticaden</td>\n",
       "      <td>621011971</td>\n",
       "      <td>244-4532 Nulla Rd.</td>\n",
       "      <td>N</td>\n",
       "      <td>miles</td>\n",
       "    </tr>\n",
       "    <tr>\n",
       "      <th>1</th>\n",
       "      <td>11</td>\n",
       "      <td>Jamie Engesser</td>\n",
       "      <td>262112338</td>\n",
       "      <td>366-4125 Ac Street</td>\n",
       "      <td>N</td>\n",
       "      <td>miles</td>\n",
       "    </tr>\n",
       "    <tr>\n",
       "      <th>2</th>\n",
       "      <td>12</td>\n",
       "      <td>Paul Coddin</td>\n",
       "      <td>198041975</td>\n",
       "      <td>Ap #622-957 Risus. Street</td>\n",
       "      <td>Y</td>\n",
       "      <td>hours</td>\n",
       "    </tr>\n",
       "    <tr>\n",
       "      <th>3</th>\n",
       "      <td>13</td>\n",
       "      <td>Joe Niemiec</td>\n",
       "      <td>139907145</td>\n",
       "      <td>2071 Hendrerit. Ave</td>\n",
       "      <td>Y</td>\n",
       "      <td>hours</td>\n",
       "    </tr>\n",
       "    <tr>\n",
       "      <th>4</th>\n",
       "      <td>14</td>\n",
       "      <td>Adis Cesir</td>\n",
       "      <td>820812209</td>\n",
       "      <td>Ap #810-1228 In St.</td>\n",
       "      <td>Y</td>\n",
       "      <td>hours</td>\n",
       "    </tr>\n",
       "  </tbody>\n",
       "</table>\n",
       "</div>"
      ],
      "text/plain": [
       "   driverId               name        ssn                   location  \\\n",
       "0        10  George Vetticaden  621011971         244-4532 Nulla Rd.   \n",
       "1        11     Jamie Engesser  262112338         366-4125 Ac Street   \n",
       "2        12        Paul Coddin  198041975  Ap #622-957 Risus. Street   \n",
       "3        13        Joe Niemiec  139907145        2071 Hendrerit. Ave   \n",
       "4        14         Adis Cesir  820812209        Ap #810-1228 In St.   \n",
       "\n",
       "  certified wage-plan  \n",
       "0         N     miles  \n",
       "1         N     miles  \n",
       "2         Y     hours  \n",
       "3         Y     hours  \n",
       "4         Y     hours  "
      ]
     },
     "execution_count": 6,
     "metadata": {},
     "output_type": "execute_result"
    }
   ],
   "source": [
    "#Descargando datos desde repo github\n",
    "import pandas as pd\n",
    "\n",
    "url = \"https://raw.githubusercontent.com/jdvelasq/datalabs/master/datasets/drivers/drivers.csv\"\n",
    "drivers = pd.read_csv(url)\n",
    "drivers.head()"
   ]
  },
  {
   "cell_type": "code",
   "execution_count": 25,
   "metadata": {},
   "outputs": [
    {
     "data": {
      "text/html": [
       "<div>\n",
       "<style scoped>\n",
       "    .dataframe tbody tr th:only-of-type {\n",
       "        vertical-align: middle;\n",
       "    }\n",
       "\n",
       "    .dataframe tbody tr th {\n",
       "        vertical-align: top;\n",
       "    }\n",
       "\n",
       "    .dataframe thead th {\n",
       "        text-align: right;\n",
       "    }\n",
       "</style>\n",
       "<table border=\"1\" class=\"dataframe\">\n",
       "  <thead>\n",
       "    <tr style=\"text-align: right;\">\n",
       "      <th></th>\n",
       "      <th>driverId</th>\n",
       "      <th>truckId</th>\n",
       "      <th>eventTime</th>\n",
       "      <th>eventType</th>\n",
       "      <th>longitude</th>\n",
       "      <th>latitude</th>\n",
       "      <th>eventKey</th>\n",
       "      <th>CorrelationId</th>\n",
       "      <th>driverName</th>\n",
       "      <th>routeId</th>\n",
       "      <th>routeName</th>\n",
       "      <th>eventDate</th>\n",
       "    </tr>\n",
       "  </thead>\n",
       "  <tbody>\n",
       "    <tr>\n",
       "      <th>0</th>\n",
       "      <td>14</td>\n",
       "      <td>25</td>\n",
       "      <td>59:21.4</td>\n",
       "      <td>Normal</td>\n",
       "      <td>-94.58</td>\n",
       "      <td>37.03</td>\n",
       "      <td>14|25|9223370572464814373</td>\n",
       "      <td>3.660000e+18</td>\n",
       "      <td>Adis Cesir</td>\n",
       "      <td>160405074</td>\n",
       "      <td>Joplin to Kansas City Route 2</td>\n",
       "      <td>2016-05-27-22</td>\n",
       "    </tr>\n",
       "    <tr>\n",
       "      <th>1</th>\n",
       "      <td>18</td>\n",
       "      <td>16</td>\n",
       "      <td>59:21.7</td>\n",
       "      <td>Normal</td>\n",
       "      <td>-89.66</td>\n",
       "      <td>39.78</td>\n",
       "      <td>18|16|9223370572464814089</td>\n",
       "      <td>3.660000e+18</td>\n",
       "      <td>Grant Liu</td>\n",
       "      <td>1565885487</td>\n",
       "      <td>Springfield to KC Via Hanibal</td>\n",
       "      <td>2016-05-27-22</td>\n",
       "    </tr>\n",
       "    <tr>\n",
       "      <th>2</th>\n",
       "      <td>27</td>\n",
       "      <td>105</td>\n",
       "      <td>59:21.7</td>\n",
       "      <td>Normal</td>\n",
       "      <td>-90.21</td>\n",
       "      <td>38.65</td>\n",
       "      <td>27|105|9223370572464814070</td>\n",
       "      <td>3.660000e+18</td>\n",
       "      <td>Mark Lochbihler</td>\n",
       "      <td>1325562373</td>\n",
       "      <td>Springfield to KC Via Columbia Route 2</td>\n",
       "      <td>2016-05-27-22</td>\n",
       "    </tr>\n",
       "    <tr>\n",
       "      <th>3</th>\n",
       "      <td>11</td>\n",
       "      <td>74</td>\n",
       "      <td>59:21.7</td>\n",
       "      <td>Normal</td>\n",
       "      <td>-90.20</td>\n",
       "      <td>38.65</td>\n",
       "      <td>11|74|9223370572464814123</td>\n",
       "      <td>3.660000e+18</td>\n",
       "      <td>Jamie Engesser</td>\n",
       "      <td>1567254452</td>\n",
       "      <td>Saint Louis to Memphis Route2</td>\n",
       "      <td>2016-05-27-22</td>\n",
       "    </tr>\n",
       "    <tr>\n",
       "      <th>4</th>\n",
       "      <td>22</td>\n",
       "      <td>87</td>\n",
       "      <td>59:21.7</td>\n",
       "      <td>Normal</td>\n",
       "      <td>-90.04</td>\n",
       "      <td>35.19</td>\n",
       "      <td>22|87|9223370572464814101</td>\n",
       "      <td>3.660000e+18</td>\n",
       "      <td>Nadeem Asghar</td>\n",
       "      <td>1198242881</td>\n",
       "      <td>Saint Louis to Chicago Route2</td>\n",
       "      <td>2016-05-27-22</td>\n",
       "    </tr>\n",
       "  </tbody>\n",
       "</table>\n",
       "</div>"
      ],
      "text/plain": [
       "   driverId  truckId eventTime eventType  longitude  latitude  \\\n",
       "0        14       25   59:21.4    Normal     -94.58     37.03   \n",
       "1        18       16   59:21.7    Normal     -89.66     39.78   \n",
       "2        27      105   59:21.7    Normal     -90.21     38.65   \n",
       "3        11       74   59:21.7    Normal     -90.20     38.65   \n",
       "4        22       87   59:21.7    Normal     -90.04     35.19   \n",
       "\n",
       "                     eventKey  CorrelationId       driverName     routeId  \\\n",
       "0   14|25|9223370572464814373   3.660000e+18       Adis Cesir   160405074   \n",
       "1   18|16|9223370572464814089   3.660000e+18        Grant Liu  1565885487   \n",
       "2  27|105|9223370572464814070   3.660000e+18  Mark Lochbihler  1325562373   \n",
       "3   11|74|9223370572464814123   3.660000e+18   Jamie Engesser  1567254452   \n",
       "4   22|87|9223370572464814101   3.660000e+18    Nadeem Asghar  1198242881   \n",
       "\n",
       "                                routeName      eventDate  \n",
       "0           Joplin to Kansas City Route 2  2016-05-27-22  \n",
       "1           Springfield to KC Via Hanibal  2016-05-27-22  \n",
       "2  Springfield to KC Via Columbia Route 2  2016-05-27-22  \n",
       "3           Saint Louis to Memphis Route2  2016-05-27-22  \n",
       "4           Saint Louis to Chicago Route2  2016-05-27-22  "
      ]
     },
     "execution_count": 25,
     "metadata": {},
     "output_type": "execute_result"
    }
   ],
   "source": [
    "import pandas as pd\n",
    "url2=\"https://raw.githubusercontent.com/jdvelasq/datalabs/master/datasets/drivers/truck_event_text_partition.csv\"\n",
    "truck_event_text_partition=pd.read_csv(url2)\n",
    "truck_event_text_partition.head()"
   ]
  },
  {
   "attachments": {},
   "cell_type": "markdown",
   "metadata": {},
   "source": [
    "Preparacion"
   ]
  },
  {
   "cell_type": "code",
   "execution_count": 9,
   "metadata": {},
   "outputs": [],
   "source": [
    "import sqlite3\n",
    "conn=sqlite3.connect(':memory:')## aca se indica el nombre de la db\n",
    "cur= conn.cursor()"
   ]
  },
  {
   "attachments": {},
   "cell_type": "markdown",
   "metadata": {},
   "source": [
    "Carga de los datos de los eventos de los conductores"
   ]
  },
  {
   "cell_type": "code",
   "execution_count": 19,
   "metadata": {},
   "outputs": [],
   "source": [
    "#\n",
    "# executescript() permite enviar varios comandos de SQL\n",
    "# en la misma cadena de texto.\n",
    "#\n",
    "\n",
    "conn.executescript(\n",
    "    \"\"\"\n",
    "DROP TABLE IF EXISTS truck_events;\n",
    "\n",
    "CREATE TABLE truck_events (driverId       INT,\n",
    "                           truckId        INT,\n",
    "                           eventTime      STRING,\n",
    "                           eventType      STRING,\n",
    "                           longitude      DOUBLE,\n",
    "                           latitude       DOUBLE,\n",
    "                           eventKey       STRING,\n",
    "                           correlationId  STRING,\n",
    "                           driverName     STRING,\n",
    "                           routeId        STRING,\n",
    "                           routeName      STRING,\n",
    "                           eventDate      STRING);\n",
    "\"\"\"\n",
    ")\n",
    "conn.commit()"
   ]
  },
  {
   "cell_type": "code",
   "execution_count": 20,
   "metadata": {},
   "outputs": [
    {
     "data": {
      "text/plain": [
       "[('truck_events',)]"
      ]
     },
     "execution_count": 20,
     "metadata": {},
     "output_type": "execute_result"
    }
   ],
   "source": [
    "#\n",
    "# La función execute() permite enviar únicamente un comando SQL\n",
    "# al motor de la base de datos. El siguiente comando es equivalente\n",
    "# a `SHOW TABLES;` en SQL\n",
    "#\n",
    "cur.execute(\"SELECT name FROM sqlite_master WHERE type='table';\").fetchall()"
   ]
  },
  {
   "cell_type": "code",
   "execution_count": 21,
   "metadata": {},
   "outputs": [
    {
     "data": {
      "text/plain": [
       "[('CREATE TABLE truck_events (driverId       INT,\\n                           truckId        INT,\\n                           eventTime      STRING,\\n                           eventType      STRING,\\n                           longitude      DOUBLE,\\n                           latitude       DOUBLE,\\n                           eventKey       STRING,\\n                           correlationId  STRING,\\n                           driverName     STRING,\\n                           routeId        STRING,\\n                           routeName      STRING,\\n                           eventDate      STRING)',)]"
      ]
     },
     "execution_count": 21,
     "metadata": {},
     "output_type": "execute_result"
    }
   ],
   "source": [
    "#\n",
    "# La siguiente sentencia devuelve un string que\n",
    "# representa los comandos sql para crear la tabla\n",
    "#\n",
    "cur.execute(\n",
    "    \"SELECT sql FROM sqlite_master WHERE type='table' and name='truck_events';\"\n",
    ").fetchall()"
   ]
  },
  {
   "cell_type": "code",
   "execution_count": 22,
   "metadata": {},
   "outputs": [
    {
     "name": "stdout",
     "output_type": "stream",
     "text": [
      "CREATE TABLE truck_events (driverId       INT,\n",
      "                           truckId        INT,\n",
      "                           eventTime      STRING,\n",
      "                           eventType      STRING,\n",
      "                           longitude      DOUBLE,\n",
      "                           latitude       DOUBLE,\n",
      "                           eventKey       STRING,\n",
      "                           correlationId  STRING,\n",
      "                           driverName     STRING,\n",
      "                           routeId        STRING,\n",
      "                           routeName      STRING,\n",
      "                           eventDate      STRING)\n"
     ]
    }
   ],
   "source": [
    "#\n",
    "# Se imprime el comando sql equivalente para cada\n",
    "# tabla existente en la base de datos\n",
    "#\n",
    "for a in cur.execute(\"SELECT sql FROM sqlite_master WHERE type='table';\").fetchall():\n",
    "    print(a[0])"
   ]
  },
  {
   "attachments": {},
   "cell_type": "markdown",
   "metadata": {},
   "source": [
    "<h4>Carga de datos usando INSERT INTO</h4>\n",
    "Este método de carga consiste en crear una lista de tupas, donde cada elemento de la tupla es un campo de la tabla.\n"
   ]
  },
  {
   "cell_type": "code",
   "execution_count": 35,
   "metadata": {},
   "outputs": [
    {
     "data": {
      "text/plain": [
       "[',driverId,truckId,eventTime,eventType,longitude,latitude,eventKey,CorrelationId,driverName,routeId,routeName,eventDate\\n',\n",
       " '0,14,25,59:21.4,Normal,-94.58,37.03,14|25|9223370572464814373,3.66e+18,Adis Cesir,160405074,Joplin to Kansas City Route 2,2016-05-27-22\\n',\n",
       " '1,18,16,59:21.7,Normal,-89.66,39.78,18|16|9223370572464814089,3.66e+18,Grant Liu,1565885487,Springfield to KC Via Hanibal,2016-05-27-22\\n']"
      ]
     },
     "execution_count": 35,
     "metadata": {},
     "output_type": "execute_result"
    }
   ],
   "source": [
    "with open('truck_event_text_partition.csv','rt') as f:\n",
    "    data=f.readlines()\n",
    "data[:3]"
   ]
  }
 ],
 "metadata": {
  "kernelspec": {
   "display_name": "Python 3",
   "language": "python",
   "name": "python3"
  },
  "language_info": {
   "codemirror_mode": {
    "name": "ipython",
    "version": 3
   },
   "file_extension": ".py",
   "mimetype": "text/x-python",
   "name": "python",
   "nbconvert_exporter": "python",
   "pygments_lexer": "ipython3",
   "version": "3.9.13"
  },
  "orig_nbformat": 4
 },
 "nbformat": 4,
 "nbformat_minor": 2
}
