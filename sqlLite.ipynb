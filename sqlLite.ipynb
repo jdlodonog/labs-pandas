{
 "cells": [
  {
   "cell_type": "code",
   "execution_count": 16,
   "metadata": {},
   "outputs": [
    {
     "data": {
      "text/plain": [
       "' \\nfor line in reader:\\n    print(line)    \\n'"
      ]
     },
     "execution_count": 16,
     "metadata": {},
     "output_type": "execute_result"
    }
   ],
   "source": [
    "#descargar archivos desde url y almacenarlos en carpeta local\n",
    "import urllib.request as request\n",
    "import csv\n",
    "r = request.urlopen('https://raw.githubusercontent.com/jdvelasq/datalabs/master/datasets/drivers/truck_event_text_partition.csv').read().decode('utf8').split(\"\\n\")\n",
    "reader = csv.reader(r)\n",
    "#para imprimir el archivo\n",
    "''' \n",
    "for line in reader:\n",
    "    print(line)    \n",
    "'''"
   ]
  },
  {
   "cell_type": "code",
   "execution_count": 17,
   "metadata": {},
   "outputs": [],
   "source": [
    "#otra manera e importar los archgivos desde internet\n",
    "import pandas as pd\n",
    "df = pd.read_csv('https://raw.githubusercontent.com/jdvelasq/datalabs/master/datasets/drivers/truck_event_text_partition.csv',index_col=0)\n",
    "df.to_csv('truck_event_text_partition.csv')"
   ]
  },
  {
   "cell_type": "code",
   "execution_count": 18,
   "metadata": {},
   "outputs": [],
   "source": [
    "import os\n",
    "\n",
    "for root, dirs, files in os.walk('/TEMP/'):\n",
    "    for file in files:\n",
    "        if file.endswith('.ipynb'):\n",
    "            print(os.path.join(root, file))\n"
   ]
  },
  {
   "cell_type": "code",
   "execution_count": 19,
   "metadata": {},
   "outputs": [],
   "source": [
    "#prueba de commit en github con el archivo de jupyter lab\n",
    "filenames = [\n",
    "    \"drivers.csv\",\n",
    "    \"timesheet.csv\",\n",
    "    \"truck_event_text_partition.csv\",\n",
    "]"
   ]
  },
  {
   "cell_type": "code",
   "execution_count": 20,
   "metadata": {},
   "outputs": [
    {
     "data": {
      "text/html": [
       "<div>\n",
       "<style scoped>\n",
       "    .dataframe tbody tr th:only-of-type {\n",
       "        vertical-align: middle;\n",
       "    }\n",
       "\n",
       "    .dataframe tbody tr th {\n",
       "        vertical-align: top;\n",
       "    }\n",
       "\n",
       "    .dataframe thead th {\n",
       "        text-align: right;\n",
       "    }\n",
       "</style>\n",
       "<table border=\"1\" class=\"dataframe\">\n",
       "  <thead>\n",
       "    <tr style=\"text-align: right;\">\n",
       "      <th></th>\n",
       "      <th>driverId</th>\n",
       "      <th>name</th>\n",
       "      <th>ssn</th>\n",
       "      <th>location</th>\n",
       "      <th>certified</th>\n",
       "      <th>wage-plan</th>\n",
       "    </tr>\n",
       "  </thead>\n",
       "  <tbody>\n",
       "    <tr>\n",
       "      <th>0</th>\n",
       "      <td>10</td>\n",
       "      <td>George Vetticaden</td>\n",
       "      <td>621011971</td>\n",
       "      <td>244-4532 Nulla Rd.</td>\n",
       "      <td>N</td>\n",
       "      <td>miles</td>\n",
       "    </tr>\n",
       "    <tr>\n",
       "      <th>1</th>\n",
       "      <td>11</td>\n",
       "      <td>Jamie Engesser</td>\n",
       "      <td>262112338</td>\n",
       "      <td>366-4125 Ac Street</td>\n",
       "      <td>N</td>\n",
       "      <td>miles</td>\n",
       "    </tr>\n",
       "    <tr>\n",
       "      <th>2</th>\n",
       "      <td>12</td>\n",
       "      <td>Paul Coddin</td>\n",
       "      <td>198041975</td>\n",
       "      <td>Ap #622-957 Risus. Street</td>\n",
       "      <td>Y</td>\n",
       "      <td>hours</td>\n",
       "    </tr>\n",
       "    <tr>\n",
       "      <th>3</th>\n",
       "      <td>13</td>\n",
       "      <td>Joe Niemiec</td>\n",
       "      <td>139907145</td>\n",
       "      <td>2071 Hendrerit. Ave</td>\n",
       "      <td>Y</td>\n",
       "      <td>hours</td>\n",
       "    </tr>\n",
       "    <tr>\n",
       "      <th>4</th>\n",
       "      <td>14</td>\n",
       "      <td>Adis Cesir</td>\n",
       "      <td>820812209</td>\n",
       "      <td>Ap #810-1228 In St.</td>\n",
       "      <td>Y</td>\n",
       "      <td>hours</td>\n",
       "    </tr>\n",
       "  </tbody>\n",
       "</table>\n",
       "</div>"
      ],
      "text/plain": [
       "   driverId               name        ssn                   location  \\\n",
       "0        10  George Vetticaden  621011971         244-4532 Nulla Rd.   \n",
       "1        11     Jamie Engesser  262112338         366-4125 Ac Street   \n",
       "2        12        Paul Coddin  198041975  Ap #622-957 Risus. Street   \n",
       "3        13        Joe Niemiec  139907145        2071 Hendrerit. Ave   \n",
       "4        14         Adis Cesir  820812209        Ap #810-1228 In St.   \n",
       "\n",
       "  certified wage-plan  \n",
       "0         N     miles  \n",
       "1         N     miles  \n",
       "2         Y     hours  \n",
       "3         Y     hours  \n",
       "4         Y     hours  "
      ]
     },
     "execution_count": 20,
     "metadata": {},
     "output_type": "execute_result"
    }
   ],
   "source": [
    "#Descargando datos desde repo github\n",
    "import pandas as pd\n",
    "\n",
    "url = \"https://raw.githubusercontent.com/jdvelasq/datalabs/master/datasets/drivers/drivers.csv\"\n",
    "drivers = pd.read_csv(url)\n",
    "drivers.head()"
   ]
  },
  {
   "cell_type": "code",
   "execution_count": 21,
   "metadata": {},
   "outputs": [
    {
     "data": {
      "text/html": [
       "<div>\n",
       "<style scoped>\n",
       "    .dataframe tbody tr th:only-of-type {\n",
       "        vertical-align: middle;\n",
       "    }\n",
       "\n",
       "    .dataframe tbody tr th {\n",
       "        vertical-align: top;\n",
       "    }\n",
       "\n",
       "    .dataframe thead th {\n",
       "        text-align: right;\n",
       "    }\n",
       "</style>\n",
       "<table border=\"1\" class=\"dataframe\">\n",
       "  <thead>\n",
       "    <tr style=\"text-align: right;\">\n",
       "      <th></th>\n",
       "      <th>truckId</th>\n",
       "      <th>eventTime</th>\n",
       "      <th>eventType</th>\n",
       "      <th>longitude</th>\n",
       "      <th>latitude</th>\n",
       "      <th>eventKey</th>\n",
       "      <th>CorrelationId</th>\n",
       "      <th>driverName</th>\n",
       "      <th>routeId</th>\n",
       "      <th>routeName</th>\n",
       "      <th>eventDate</th>\n",
       "    </tr>\n",
       "    <tr>\n",
       "      <th>driverId</th>\n",
       "      <th></th>\n",
       "      <th></th>\n",
       "      <th></th>\n",
       "      <th></th>\n",
       "      <th></th>\n",
       "      <th></th>\n",
       "      <th></th>\n",
       "      <th></th>\n",
       "      <th></th>\n",
       "      <th></th>\n",
       "      <th></th>\n",
       "    </tr>\n",
       "  </thead>\n",
       "  <tbody>\n",
       "    <tr>\n",
       "      <th>14</th>\n",
       "      <td>25</td>\n",
       "      <td>59:21.4</td>\n",
       "      <td>Normal</td>\n",
       "      <td>-94.58</td>\n",
       "      <td>37.03</td>\n",
       "      <td>14|25|9223370572464814373</td>\n",
       "      <td>3.660000e+18</td>\n",
       "      <td>Adis Cesir</td>\n",
       "      <td>160405074</td>\n",
       "      <td>Joplin to Kansas City Route 2</td>\n",
       "      <td>2016-05-27-22</td>\n",
       "    </tr>\n",
       "    <tr>\n",
       "      <th>18</th>\n",
       "      <td>16</td>\n",
       "      <td>59:21.7</td>\n",
       "      <td>Normal</td>\n",
       "      <td>-89.66</td>\n",
       "      <td>39.78</td>\n",
       "      <td>18|16|9223370572464814089</td>\n",
       "      <td>3.660000e+18</td>\n",
       "      <td>Grant Liu</td>\n",
       "      <td>1565885487</td>\n",
       "      <td>Springfield to KC Via Hanibal</td>\n",
       "      <td>2016-05-27-22</td>\n",
       "    </tr>\n",
       "    <tr>\n",
       "      <th>27</th>\n",
       "      <td>105</td>\n",
       "      <td>59:21.7</td>\n",
       "      <td>Normal</td>\n",
       "      <td>-90.21</td>\n",
       "      <td>38.65</td>\n",
       "      <td>27|105|9223370572464814070</td>\n",
       "      <td>3.660000e+18</td>\n",
       "      <td>Mark Lochbihler</td>\n",
       "      <td>1325562373</td>\n",
       "      <td>Springfield to KC Via Columbia Route 2</td>\n",
       "      <td>2016-05-27-22</td>\n",
       "    </tr>\n",
       "    <tr>\n",
       "      <th>11</th>\n",
       "      <td>74</td>\n",
       "      <td>59:21.7</td>\n",
       "      <td>Normal</td>\n",
       "      <td>-90.20</td>\n",
       "      <td>38.65</td>\n",
       "      <td>11|74|9223370572464814123</td>\n",
       "      <td>3.660000e+18</td>\n",
       "      <td>Jamie Engesser</td>\n",
       "      <td>1567254452</td>\n",
       "      <td>Saint Louis to Memphis Route2</td>\n",
       "      <td>2016-05-27-22</td>\n",
       "    </tr>\n",
       "    <tr>\n",
       "      <th>22</th>\n",
       "      <td>87</td>\n",
       "      <td>59:21.7</td>\n",
       "      <td>Normal</td>\n",
       "      <td>-90.04</td>\n",
       "      <td>35.19</td>\n",
       "      <td>22|87|9223370572464814101</td>\n",
       "      <td>3.660000e+18</td>\n",
       "      <td>Nadeem Asghar</td>\n",
       "      <td>1198242881</td>\n",
       "      <td>Saint Louis to Chicago Route2</td>\n",
       "      <td>2016-05-27-22</td>\n",
       "    </tr>\n",
       "  </tbody>\n",
       "</table>\n",
       "</div>"
      ],
      "text/plain": [
       "          truckId eventTime eventType  longitude  latitude  \\\n",
       "driverId                                                     \n",
       "14             25   59:21.4    Normal     -94.58     37.03   \n",
       "18             16   59:21.7    Normal     -89.66     39.78   \n",
       "27            105   59:21.7    Normal     -90.21     38.65   \n",
       "11             74   59:21.7    Normal     -90.20     38.65   \n",
       "22             87   59:21.7    Normal     -90.04     35.19   \n",
       "\n",
       "                            eventKey  CorrelationId       driverName  \\\n",
       "driverId                                                               \n",
       "14         14|25|9223370572464814373   3.660000e+18       Adis Cesir   \n",
       "18         18|16|9223370572464814089   3.660000e+18        Grant Liu   \n",
       "27        27|105|9223370572464814070   3.660000e+18  Mark Lochbihler   \n",
       "11         11|74|9223370572464814123   3.660000e+18   Jamie Engesser   \n",
       "22         22|87|9223370572464814101   3.660000e+18    Nadeem Asghar   \n",
       "\n",
       "             routeId                               routeName      eventDate  \n",
       "driverId                                                                     \n",
       "14         160405074           Joplin to Kansas City Route 2  2016-05-27-22  \n",
       "18        1565885487           Springfield to KC Via Hanibal  2016-05-27-22  \n",
       "27        1325562373  Springfield to KC Via Columbia Route 2  2016-05-27-22  \n",
       "11        1567254452           Saint Louis to Memphis Route2  2016-05-27-22  \n",
       "22        1198242881           Saint Louis to Chicago Route2  2016-05-27-22  "
      ]
     },
     "execution_count": 21,
     "metadata": {},
     "output_type": "execute_result"
    }
   ],
   "source": [
    "import pandas as pd\n",
    "url2=\"https://raw.githubusercontent.com/jdvelasq/datalabs/master/datasets/drivers/truck_event_text_partition.csv\"\n",
    "truck_event_text_partition=pd.read_csv(url2,index_col=0) #super importante el index para que no ponga el id del registro\n",
    "truck_event_text_partition.head()"
   ]
  },
  {
   "attachments": {},
   "cell_type": "markdown",
   "metadata": {},
   "source": [
    "<h3>Preparacion </h3>"
   ]
  },
  {
   "cell_type": "code",
   "execution_count": 22,
   "metadata": {},
   "outputs": [],
   "source": [
    "import sqlite3\n",
    "conn=sqlite3.connect(':memory:')## aca se indica el nombre de la db\n",
    "cur= conn.cursor()"
   ]
  },
  {
   "attachments": {},
   "cell_type": "markdown",
   "metadata": {},
   "source": [
    "Carga de los datos de los eventos de los conductores"
   ]
  },
  {
   "cell_type": "code",
   "execution_count": 23,
   "metadata": {},
   "outputs": [],
   "source": [
    "#\n",
    "# executescript() permite enviar varios comandos de SQL\n",
    "# en la misma cadena de texto.\n",
    "#\n",
    "\n",
    "conn.executescript(\n",
    "    \"\"\"\n",
    "DROP TABLE IF EXISTS truck_events;\n",
    "\n",
    "CREATE TABLE truck_events (driverId       INT,\n",
    "                           truckId        INT,\n",
    "                           eventTime      STRING,\n",
    "                           eventType      STRING,\n",
    "                           longitude      DOUBLE,\n",
    "                           latitude       DOUBLE,\n",
    "                           eventKey       STRING,\n",
    "                           correlationId  STRING,\n",
    "                           driverName     STRING,\n",
    "                           routeId        STRING,\n",
    "                           routeName      STRING,\n",
    "                           eventDate      STRING);\n",
    "\"\"\"\n",
    ")\n",
    "conn.commit()"
   ]
  },
  {
   "cell_type": "code",
   "execution_count": 24,
   "metadata": {},
   "outputs": [
    {
     "data": {
      "text/plain": [
       "[('truck_events',)]"
      ]
     },
     "execution_count": 24,
     "metadata": {},
     "output_type": "execute_result"
    }
   ],
   "source": [
    "#\n",
    "# La función execute() permite enviar únicamente un comando SQL\n",
    "# al motor de la base de datos. El siguiente comando es equivalente\n",
    "# a `SHOW TABLES;` en SQL\n",
    "#\n",
    "cur.execute(\"SELECT name FROM sqlite_master WHERE type='table';\").fetchall()"
   ]
  },
  {
   "cell_type": "code",
   "execution_count": 25,
   "metadata": {},
   "outputs": [
    {
     "data": {
      "text/plain": [
       "[('CREATE TABLE truck_events (driverId       INT,\\n                           truckId        INT,\\n                           eventTime      STRING,\\n                           eventType      STRING,\\n                           longitude      DOUBLE,\\n                           latitude       DOUBLE,\\n                           eventKey       STRING,\\n                           correlationId  STRING,\\n                           driverName     STRING,\\n                           routeId        STRING,\\n                           routeName      STRING,\\n                           eventDate      STRING)',)]"
      ]
     },
     "execution_count": 25,
     "metadata": {},
     "output_type": "execute_result"
    }
   ],
   "source": [
    "#\n",
    "# La siguiente sentencia devuelve un string que\n",
    "# representa los comandos sql para crear la tabla\n",
    "#\n",
    "cur.execute(\n",
    "    \"SELECT sql FROM sqlite_master WHERE type='table' and name='truck_events';\"\n",
    ").fetchall()"
   ]
  },
  {
   "cell_type": "code",
   "execution_count": 26,
   "metadata": {},
   "outputs": [
    {
     "name": "stdout",
     "output_type": "stream",
     "text": [
      "CREATE TABLE truck_events (driverId       INT,\n",
      "                           truckId        INT,\n",
      "                           eventTime      STRING,\n",
      "                           eventType      STRING,\n",
      "                           longitude      DOUBLE,\n",
      "                           latitude       DOUBLE,\n",
      "                           eventKey       STRING,\n",
      "                           correlationId  STRING,\n",
      "                           driverName     STRING,\n",
      "                           routeId        STRING,\n",
      "                           routeName      STRING,\n",
      "                           eventDate      STRING)\n"
     ]
    }
   ],
   "source": [
    "#\n",
    "# Se imprime el comando sql equivalente para cada\n",
    "# tabla existente en la base de datos\n",
    "#\n",
    "for a in cur.execute(\"SELECT sql FROM sqlite_master WHERE type='table';\").fetchall():\n",
    "    print(a[0])"
   ]
  },
  {
   "attachments": {},
   "cell_type": "markdown",
   "metadata": {},
   "source": [
    "<h4>Carga de datos usando INSERT INTO</h4>\n",
    "Este método de carga consiste en crear una lista de tupas, donde cada elemento de la tupla es un campo de la tabla.\n"
   ]
  },
  {
   "cell_type": "code",
   "execution_count": 27,
   "metadata": {},
   "outputs": [
    {
     "data": {
      "text/plain": [
       "['driverId,truckId,eventTime,eventType,longitude,latitude,eventKey,CorrelationId,driverName,routeId,routeName,eventDate',\n",
       " '14,25,59:21.4,Normal,-94.58,37.03,14|25|9223370572464814373,3.66e+18,Adis Cesir,160405074,Joplin to Kansas City Route 2,2016-05-27-22',\n",
       " '18,16,59:21.7,Normal,-89.66,39.78,18|16|9223370572464814089,3.66e+18,Grant Liu,1565885487,Springfield to KC Via Hanibal,2016-05-27-22']"
      ]
     },
     "execution_count": 27,
     "metadata": {},
     "output_type": "execute_result"
    }
   ],
   "source": [
    "with open('truck_event_text_partition.csv','rt') as file:\n",
    "    truck_event=file.readlines()\n",
    "len(truck_event)\n",
    "truck_event=[line.replace('\\n','') for line in truck_event]\n",
    "#truck_event=[line[][1:] for line in truck_event]\n",
    "truck_event[:3]\n"
   ]
  },
  {
   "cell_type": "code",
   "execution_count": 28,
   "metadata": {},
   "outputs": [
    {
     "data": {
      "text/plain": [
       "[('14',\n",
       "  '25',\n",
       "  '59:21.4',\n",
       "  'Normal',\n",
       "  '-94.58',\n",
       "  '37.03',\n",
       "  '14|25|9223370572464814373',\n",
       "  '3.66e+18',\n",
       "  'Adis Cesir',\n",
       "  '160405074',\n",
       "  'Joplin to Kansas City Route 2',\n",
       "  '2016-05-27-22'),\n",
       " ('18',\n",
       "  '16',\n",
       "  '59:21.7',\n",
       "  'Normal',\n",
       "  '-89.66',\n",
       "  '39.78',\n",
       "  '18|16|9223370572464814089',\n",
       "  '3.66e+18',\n",
       "  'Grant Liu',\n",
       "  '1565885487',\n",
       "  'Springfield to KC Via Hanibal',\n",
       "  '2016-05-27-22'),\n",
       " ('27',\n",
       "  '105',\n",
       "  '59:21.7',\n",
       "  'Normal',\n",
       "  '-90.21',\n",
       "  '38.65',\n",
       "  '27|105|9223370572464814070',\n",
       "  '3.66e+18',\n",
       "  'Mark Lochbihler',\n",
       "  '1325562373',\n",
       "  'Springfield to KC Via Columbia Route 2',\n",
       "  '2016-05-27-22')]"
      ]
     },
     "execution_count": 28,
     "metadata": {},
     "output_type": "execute_result"
    }
   ],
   "source": [
    "truck_event=[line.replace('\\n','') for line in truck_event]\n",
    "# Separa los campos por comas\n",
    "truck_event=[line.split(',') for line in truck_event]\n",
    "#convierte a la fila en una tupla\n",
    "truck_event=[tuple(line) for line in truck_event]\n",
    "truck_event[:3]\n",
    "#descartando la primera que es la cabezera \n",
    "truck_event=truck_event[1:]\n",
    "truck_event[:3]\n",
    "#NOTA importante: para cargar la lista en la base de datos se debe ingresar como una tubpla"
   ]
  },
  {
   "cell_type": "code",
   "execution_count": 30,
   "metadata": {},
   "outputs": [
    {
     "data": {
      "text/plain": [
       "<sqlite3.Cursor at 0x1dfb2494f80>"
      ]
     },
     "execution_count": 30,
     "metadata": {},
     "output_type": "execute_result"
    }
   ],
   "source": [
    "## Carga a partir de la lista de tuplas\n",
    "# contenidas en data\n",
    "cur.executemany(\"INSERT INTO truck_events VALUES (?,?,?,?,?,?,?,?,?,?,?,?)\", truck_event)\n",
    "# Verificación\n",
    "#\n",
    "cur.execute(\"SELECT * FROM truck_events LIMIT 1;\").fetchall()"
   ]
  },
  {
   "attachments": {},
   "cell_type": "markdown",
   "metadata": {},
   "source": [
    "<h3> Consulta de datos   </h3>\n",
    "\n",
    "SELECT\n",
    "    what\n",
    "FROM\n",
    "    tbl_name\n",
    "[WHERE where-conditions]\n",
    "[ORDER BY column_name];"
   ]
  },
  {
   "cell_type": "code",
   "execution_count": 31,
   "metadata": {},
   "outputs": [
    {
     "data": {
      "text/plain": [
       "[(14,\n",
       "  25,\n",
       "  '59:21.4',\n",
       "  'Normal',\n",
       "  -94.58,\n",
       "  37.03,\n",
       "  '14|25|9223370572464814373',\n",
       "  3660000000000000000,\n",
       "  'Adis Cesir',\n",
       "  160405074,\n",
       "  'Joplin to Kansas City Route 2',\n",
       "  '2016-05-27-22'),\n",
       " (18,\n",
       "  16,\n",
       "  '59:21.7',\n",
       "  'Normal',\n",
       "  -89.66,\n",
       "  39.78,\n",
       "  '18|16|9223370572464814089',\n",
       "  3660000000000000000,\n",
       "  'Grant Liu',\n",
       "  1565885487,\n",
       "  'Springfield to KC Via Hanibal',\n",
       "  '2016-05-27-22'),\n",
       " (27,\n",
       "  105,\n",
       "  '59:21.7',\n",
       "  'Normal',\n",
       "  -90.21,\n",
       "  38.65,\n",
       "  '27|105|9223370572464814070',\n",
       "  3660000000000000000,\n",
       "  'Mark Lochbihler',\n",
       "  1325562373,\n",
       "  'Springfield to KC Via Columbia Route 2',\n",
       "  '2016-05-27-22')]"
      ]
     },
     "execution_count": 31,
     "metadata": {},
     "output_type": "execute_result"
    }
   ],
   "source": [
    "cur.execute(\"SELECT *FROM truck_events LIMIT 3;\").fetchall()"
   ]
  },
  {
   "attachments": {},
   "cell_type": "markdown",
   "metadata": {},
   "source": [
    "<h3>Obtención de un subconjunto de registros</h3>\n",
    "En SQLite3 es posible obtener un subconjunto de datos y almacenarlo en una nueva tabla a partir de una consulta que permita obtener los datos deseados. En el siguiente código, se crea la tabla truck_events_subset con los primeros 100 registros de la tabla truck_events.\n"
   ]
  },
  {
   "cell_type": "code",
   "execution_count": 35,
   "metadata": {},
   "outputs": [],
   "source": [
    "conn.executescript(\n",
    "    \"\"\"\n",
    "    DROP TABLE IF EXISTS truck_events_subset;\n",
    "\n",
    "    CREATE TABLE truck_events_subset\n",
    "    AS\n",
    "    SELECT *\n",
    "    FROM truck_events \n",
    "    LIMIT 100;\n",
    "    \"\"\"\n",
    ")\n",
    "\n",
    "conn.commit()"
   ]
  },
  {
   "cell_type": "code",
   "execution_count": 42,
   "metadata": {},
   "outputs": [
    {
     "data": {
      "text/plain": [
       "[(14,\n",
       "  25,\n",
       "  '59:21.4',\n",
       "  'Normal',\n",
       "  -94.58,\n",
       "  37.03,\n",
       "  '14|25|9223370572464814373',\n",
       "  3660000000000000000,\n",
       "  'Adis Cesir',\n",
       "  160405074,\n",
       "  'Joplin to Kansas City Route 2',\n",
       "  '2016-05-27-22'),\n",
       " (18,\n",
       "  16,\n",
       "  '59:21.7',\n",
       "  'Normal',\n",
       "  -89.66,\n",
       "  39.78,\n",
       "  '18|16|9223370572464814089',\n",
       "  3660000000000000000,\n",
       "  'Grant Liu',\n",
       "  1565885487,\n",
       "  'Springfield to KC Via Hanibal',\n",
       "  '2016-05-27-22'),\n",
       " (27,\n",
       "  105,\n",
       "  '59:21.7',\n",
       "  'Normal',\n",
       "  -90.21,\n",
       "  38.65,\n",
       "  '27|105|9223370572464814070',\n",
       "  3660000000000000000,\n",
       "  'Mark Lochbihler',\n",
       "  1325562373,\n",
       "  'Springfield to KC Via Columbia Route 2',\n",
       "  '2016-05-27-22')]"
      ]
     },
     "execution_count": 42,
     "metadata": {},
     "output_type": "execute_result"
    }
   ],
   "source": [
    "#consulta\n",
    "conn.execute(\"SELECT *FROM truck_events_subset LIMIT 3;\").fetchall()\n"
   ]
  },
  {
   "cell_type": "code",
   "execution_count": 45,
   "metadata": {},
   "outputs": [],
   "source": [
    "#obtencion de un subconjunto de columnas\n",
    "conn.executescript(\n",
    "    \"\"\"\n",
    "    DROP TABLE IF EXISTS specific_columns;\n",
    "\n",
    "    CREATE TABLE specific_columns\n",
    "    AS \n",
    "    SELECT\n",
    "        driverId,\n",
    "        eventTime,\n",
    "        eventType\n",
    "    FROM \n",
    "        truck_events_subset;\n",
    "\n",
    "    SELECT * FROM specific_columns LIMIT 1;\n",
    "\"\"\"\n",
    ")\n",
    "conn.commit()\n"
   ]
  },
  {
   "cell_type": "code",
   "execution_count": 49,
   "metadata": {},
   "outputs": [
    {
     "data": {
      "text/plain": [
       "[(27, '59:21.7', 'Normal'),\n",
       " (11, '59:21.7', 'Normal'),\n",
       " (22, '59:21.7', 'Normal')]"
      ]
     },
     "execution_count": 49,
     "metadata": {},
     "output_type": "execute_result"
    }
   ],
   "source": [
    "#Consulta registros del 2 al 5\n",
    "cur.execute(\"SELECT * FROM specific_columns LIMIT 2,3;\").fetchall()"
   ]
  },
  {
   "cell_type": "code",
   "execution_count": 51,
   "metadata": {},
   "outputs": [
    {
     "data": {
      "text/plain": [
       "[(11, '59:21.7', 'Normal'),\n",
       " (11, '59:22.5', 'Normal'),\n",
       " (11, '59:28.3', 'Normal'),\n",
       " (11, '59:30.0', 'Normal'),\n",
       " (11, '59:31.8', 'Normal')]"
      ]
     },
     "execution_count": 51,
     "metadata": {},
     "output_type": "execute_result"
    }
   ],
   "source": [
    "#registros para driver id=11\n",
    "\n",
    "conn.execute(\"SELECT * FROM specific_columns WHERE driverId==11;\").fetchall()"
   ]
  },
  {
   "cell_type": "code",
   "execution_count": 52,
   "metadata": {},
   "outputs": [
    {
     "data": {
      "text/plain": [
       "[('Normal',)]"
      ]
     },
     "execution_count": 52,
     "metadata": {},
     "output_type": "execute_result"
    }
   ],
   "source": [
    "#tipos de eventos\n",
    "cur.execute(\"SELECT DISTINCT eventType FROM specific_columns;\").fetchall()"
   ]
  },
  {
   "attachments": {},
   "cell_type": "markdown",
   "metadata": {},
   "source": [
    "<h3>Escritura de la tabla en el disco</h3>\n",
    "Para escribir en un archivo local se tiene que seguir los siguientes pasos"
   ]
  },
  {
   "cell_type": "code",
   "execution_count": 55,
   "metadata": {},
   "outputs": [
    {
     "data": {
      "text/plain": [
       "14688"
      ]
     },
     "execution_count": 55,
     "metadata": {},
     "output_type": "execute_result"
    }
   ],
   "source": [
    "##\n",
    "# Obtención de los datos como una lista de tuplas\n",
    "data=cur.execute(\"SELECT *FROM truck_events_subset;\").fetchall()\n",
    "#conversion de los elementos a strings\n",
    "text = [[str(element) for element in line ] for line in data ]\n",
    "\n",
    "#concatenacion de strings\n",
    "text =[\",\".join(line) for line in text ]\n",
    "text = \"\\n\".join(text)\n",
    "\n",
    "open(\"data.csv\",\"wt\").write(text)\n"
   ]
  }
 ],
 "metadata": {
  "kernelspec": {
   "display_name": "Python 3",
   "language": "python",
   "name": "python3"
  },
  "language_info": {
   "codemirror_mode": {
    "name": "ipython",
    "version": 3
   },
   "file_extension": ".py",
   "mimetype": "text/x-python",
   "name": "python",
   "nbconvert_exporter": "python",
   "pygments_lexer": "ipython3",
   "version": "3.8.8"
  },
  "orig_nbformat": 4
 },
 "nbformat": 4,
 "nbformat_minor": 2
}
