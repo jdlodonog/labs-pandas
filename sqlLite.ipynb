{
 "cells": [
  {
   "cell_type": "code",
   "execution_count": null,
   "metadata": {},
   "outputs": [],
   "source": [
    "#descargar archivos desde url y almacenarlos en carpeta local\n",
    "import urllib.request as request\n",
    "import csv\n",
    "r = request.urlopen('https://raw.githubusercontent.com/jdvelasq/datalabs/master/datasets/drivers/truck_event_text_partition.csv').read().decode('utf8').split(\"\\n\")\n",
    "reader = csv.reader(r)\n",
    "#para imprimir el archivo\n",
    "''' \n",
    "for line in reader:\n",
    "    print(line)    \n",
    "'''"
   ]
  },
  {
   "cell_type": "code",
   "execution_count": null,
   "metadata": {},
   "outputs": [],
   "source": [
    "#otra manera e importar los archgivos desde internet\n",
    "import pandas as pd\n",
    "df = pd.read_csv('https://raw.githubusercontent.com/jdvelasq/datalabs/master/datasets/drivers/truck_event_text_partition.csv',index_col=0)\n",
    "df.to_csv('truck_event_text_partition.csv')"
   ]
  },
  {
   "cell_type": "code",
   "execution_count": null,
   "metadata": {},
   "outputs": [],
   "source": [
    "import os\n",
    "\n",
    "for root, dirs, files in os.walk('/TEMP/'):\n",
    "    for file in files:\n",
    "        if file.endswith('.ipynb'):\n",
    "            print(os.path.join(root, file))\n"
   ]
  },
  {
   "cell_type": "code",
   "execution_count": null,
   "metadata": {},
   "outputs": [],
   "source": [
    "#prueba de commit en github con el archivo de jupyter lab\n",
    "filenames = [\n",
    "    \"drivers.csv\",\n",
    "    \"timesheet.csv\",\n",
    "    \"truck_event_text_partition.csv\",\n",
    "]"
   ]
  },
  {
   "cell_type": "code",
   "execution_count": null,
   "metadata": {},
   "outputs": [],
   "source": [
    "#Descargando datos desde repo github\n",
    "import pandas as pd\n",
    "\n",
    "url = \"https://raw.githubusercontent.com/jdvelasq/datalabs/master/datasets/drivers/drivers.csv\"\n",
    "drivers = pd.read_csv(url)\n",
    "drivers.head()"
   ]
  },
  {
   "cell_type": "code",
   "execution_count": null,
   "metadata": {},
   "outputs": [],
   "source": [
    "import pandas as pd\n",
    "url2=\"https://raw.githubusercontent.com/jdvelasq/datalabs/master/datasets/drivers/truck_event_text_partition.csv\"\n",
    "truck_event_text_partition=pd.read_csv(url2,index_col=0) #super importante el index para que no ponga el id del registro\n",
    "truck_event_text_partition.head()"
   ]
  },
  {
   "attachments": {},
   "cell_type": "markdown",
   "metadata": {},
   "source": [
    "Preparacion"
   ]
  },
  {
   "cell_type": "code",
   "execution_count": null,
   "metadata": {},
   "outputs": [],
   "source": [
    "import sqlite3\n",
    "conn=sqlite3.connect(':memory:')## aca se indica el nombre de la db\n",
    "cur= conn.cursor()"
   ]
  },
  {
   "attachments": {},
   "cell_type": "markdown",
   "metadata": {},
   "source": [
    "Carga de los datos de los eventos de los conductores"
   ]
  },
  {
   "cell_type": "code",
   "execution_count": null,
   "metadata": {},
   "outputs": [],
   "source": [
    "#\n",
    "# executescript() permite enviar varios comandos de SQL\n",
    "# en la misma cadena de texto.\n",
    "#\n",
    "\n",
    "conn.executescript(\n",
    "    \"\"\"\n",
    "DROP TABLE IF EXISTS truck_events;\n",
    "\n",
    "CREATE TABLE truck_events (driverId       INT,\n",
    "                           truckId        INT,\n",
    "                           eventTime      STRING,\n",
    "                           eventType      STRING,\n",
    "                           longitude      DOUBLE,\n",
    "                           latitude       DOUBLE,\n",
    "                           eventKey       STRING,\n",
    "                           correlationId  STRING,\n",
    "                           driverName     STRING,\n",
    "                           routeId        STRING,\n",
    "                           routeName      STRING,\n",
    "                           eventDate      STRING);\n",
    "\"\"\"\n",
    ")\n",
    "conn.commit()"
   ]
  },
  {
   "cell_type": "code",
   "execution_count": null,
   "metadata": {},
   "outputs": [],
   "source": [
    "#\n",
    "# La función execute() permite enviar únicamente un comando SQL\n",
    "# al motor de la base de datos. El siguiente comando es equivalente\n",
    "# a `SHOW TABLES;` en SQL\n",
    "#\n",
    "cur.execute(\"SELECT name FROM sqlite_master WHERE type='table';\").fetchall()"
   ]
  },
  {
   "cell_type": "code",
   "execution_count": null,
   "metadata": {},
   "outputs": [],
   "source": [
    "#\n",
    "# La siguiente sentencia devuelve un string que\n",
    "# representa los comandos sql para crear la tabla\n",
    "#\n",
    "cur.execute(\n",
    "    \"SELECT sql FROM sqlite_master WHERE type='table' and name='truck_events';\"\n",
    ").fetchall()"
   ]
  },
  {
   "cell_type": "code",
   "execution_count": null,
   "metadata": {},
   "outputs": [],
   "source": [
    "#\n",
    "# Se imprime el comando sql equivalente para cada\n",
    "# tabla existente en la base de datos\n",
    "#\n",
    "for a in cur.execute(\"SELECT sql FROM sqlite_master WHERE type='table';\").fetchall():\n",
    "    print(a[0])"
   ]
  },
  {
   "attachments": {},
   "cell_type": "markdown",
   "metadata": {},
   "source": [
    "<h4>Carga de datos usando INSERT INTO</h4>\n",
    "Este método de carga consiste en crear una lista de tupas, donde cada elemento de la tupla es un campo de la tabla.\n"
   ]
  },
  {
   "cell_type": "code",
   "execution_count": null,
   "metadata": {},
   "outputs": [],
   "source": [
    "with open('truck_event_text_partition.csv','rt') as file:\n",
    "    truck_event=file.readlines()\n",
    "len(truck_event)\n",
    "truck_event=[line.replace('\\n','') for line in truck_event]\n",
    "#truck_event=[line[][1:] for line in truck_event]\n",
    "truck_event[:3]\n"
   ]
  },
  {
   "cell_type": "code",
   "execution_count": null,
   "metadata": {},
   "outputs": [],
   "source": [
    "truck_event=[line.replace('\\n','') for line in truck_event]\n",
    "# Separa los campos por comas\n",
    "truck_event=[line.split(',') for line in truck_event]\n",
    "#convierte a la fila en una tupla\n",
    "truck_event=[tuple(line) for line in truck_event]\n",
    "truck_event[:3]\n",
    "#descartando la primera que es la cabezera \n",
    "truck_event=truck_event[1:]\n",
    "truck_event[:3]"
   ]
  },
  {
   "cell_type": "code",
   "execution_count": null,
   "metadata": {},
   "outputs": [],
   "source": [
    "## Carga a partir de la lista de tuplas\n",
    "# contenidas en data\n",
    "cur.executemany(\"INSERT INTO truck_events VALUES (?,?,?,?,?,?,?,?,?,?,?)\", truck_event)\n",
    "# Verificación\n",
    "#\n",
    "cur.execute(\"SELECT * FROM truck_events LIMIT 1;\").fetchall()"
   ]
  },
  {
   "attachments": {},
   "cell_type": "markdown",
   "metadata": {},
   "source": [
    "<h3> Consulta de datos   </h3>\n",
    "\n",
    "SELECT\n",
    "    what\n",
    "FROM\n",
    "    tbl_name\n",
    "[WHERE where-conditions]\n",
    "[ORDER BY column_name];"
   ]
  },
  {
   "cell_type": "code",
   "execution_count": null,
   "metadata": {},
   "outputs": [],
   "source": [
    "cur.execute(\"SELECT *FROM truck_events LIMIT 3;\").fetchall()"
   ]
  }
 ],
 "metadata": {
  "kernelspec": {
   "display_name": "Python 3",
   "language": "python",
   "name": "python3"
  },
  "language_info": {
   "codemirror_mode": {
    "name": "ipython",
    "version": 3
   },
   "file_extension": ".py",
   "mimetype": "text/x-python",
   "name": "python",
   "nbconvert_exporter": "python",
   "pygments_lexer": "ipython3",
   "version": "3.8.8"
  },
  "orig_nbformat": 4
 },
 "nbformat": 4,
 "nbformat_minor": 2
}
