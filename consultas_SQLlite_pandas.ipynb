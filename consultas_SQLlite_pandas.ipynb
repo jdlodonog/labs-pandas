{
 "cells": [
  {
   "attachments": {},
   "cell_type": "markdown",
   "metadata": {},
   "source": [
    "<h2> Procesamiento de datos con SQLlite3</h2>\n",
    "En este notebook  se tiene los ejercicios basicos de carga de datos a una db y desde una db haciendo uso de pandas y sqllite, para finalizar se presentan graficas haciendo uso de matploit y pyplot"
   ]
  },
  {
   "cell_type": "code",
   "execution_count": null,
   "metadata": {},
   "outputs": [],
   "source": []
  }
 ],
 "metadata": {
  "language_info": {
   "name": "python"
  },
  "orig_nbformat": 4
 },
 "nbformat": 4,
 "nbformat_minor": 2
}
